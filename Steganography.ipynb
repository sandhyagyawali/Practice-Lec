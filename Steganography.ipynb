{
  "nbformat": 4,
  "nbformat_minor": 0,
  "metadata": {
    "colab": {
      "name": "Steganography.ipynb",
      "provenance": [],
      "authorship_tag": "ABX9TyPZWgkhreNwD4cC07eF1zMW",
      "include_colab_link": true
    },
    "kernelspec": {
      "name": "python3",
      "display_name": "Python 3"
    }
  },
  "cells": [
    {
      "cell_type": "markdown",
      "metadata": {
        "id": "view-in-github",
        "colab_type": "text"
      },
      "source": [
        "<a href=\"https://colab.research.google.com/github/sandhyagyawali/Practice-Lec/blob/master/Steganography.ipynb\" target=\"_parent\"><img src=\"https://colab.research.google.com/assets/colab-badge.svg\" alt=\"Open In Colab\"/></a>"
      ]
    },
    {
      "cell_type": "code",
      "metadata": {
        "id": "1ihAsJv-87Ce",
        "colab": {
          "base_uri": "https://localhost:8080/"
        },
        "outputId": "dc85e742-8519-4527-8138-ef6436449f42"
      },
      "source": [
        "import cv2   #library which focus on image processing ,videocapture and analysis\n",
        "import numpy as np # Python library used for working with array\n",
        "import types # define namefor some object used by python interpreter\n",
        "\n",
        "#function to convert data to binary further used for encoding and decoding\n",
        "def to_bin(data):\n",
        "    \"\"\"Convert `data` to binary format as string\"\"\"\n",
        "    if type(data) == str:\n",
        "        return ''.join([ format(ord(i), \"08b\") for i in data ])\n",
        "    elif type(data) ==  bytes or type(data) == np.ndarray:\n",
        "        return [ format(i, \"08b\") for i in data ]\n",
        "    elif type(data) == int or type(data) == np.uint8:\n",
        "        return format(data, \"08b\")\n",
        "    else:\n",
        "        raise TypeError(\"Type not supported.\")\n",
        "\n",
        "#function to hide secret data or message into the image by modyfing the LSB\n",
        "def encode(image_name, secret_data):\n",
        "    # read the image\n",
        "    image = cv2.imread(image_name)\n",
        "    # maximum bytes to encode\n",
        "    n_bytes = image.shape[0] * image.shape[1] * 3 // 8\n",
        "    print(\"[*] Maximum bytes to encode:\", n_bytes)\n",
        "    if len(secret_data) > n_bytes:\n",
        "        raise ValueError(\"[!] Insufficient bytes, need bigger image or less data.\")\n",
        "    print(\"[*] Encoding data...\")\n",
        "    # add stopping criteria\n",
        "    secret_data += \"=====\"\n",
        "    data_index = 0\n",
        "    # convert data to binary\n",
        "    binary_secret_data = to_bin(secret_data)\n",
        "    # size of data to hide\n",
        "    data_len = len(binary_secret_data)\n",
        "    for row in image:\n",
        "        for pixel in row:\n",
        "            # convert RGB values to binary format\n",
        "            r, g, b = to_bin(pixel)\n",
        "            # modify the least significant bit only if there is still data to store\n",
        "            if data_index < data_len:\n",
        "                # least significant red pixel bit\n",
        "                pixel[0] = int(r[:-1] + binary_secret_data[data_index], 2)\n",
        "                data_index += 1\n",
        "            if data_index < data_len:\n",
        "                # least significant green pixel bit\n",
        "                pixel[1] = int(g[:-1] + binary_secret_data[data_index], 2)\n",
        "                data_index += 1\n",
        "            if data_index < data_len:\n",
        "                # least significant blue pixel bit\n",
        "                pixel[2] = int(b[:-1] + binary_secret_data[data_index], 2)\n",
        "                data_index += 1\n",
        "            # if data is encoded, just break out of the loop\n",
        "            if data_index >= data_len:\n",
        "                break\n",
        "    return image\n",
        "\n",
        "def decode(image_name):\n",
        "    print(\"[+] Decoding...\")\n",
        "    # read the image\n",
        "    image = cv2.imread(image_name)\n",
        "    binary_data = \"\"\n",
        "    for row in image:\n",
        "        for pixel in row:\n",
        "            r, g, b = to_bin(pixel)\n",
        "            binary_data += r[-1]\n",
        "            binary_data += g[-1]\n",
        "            binary_data += b[-1]\n",
        "    # split by 8-bits\n",
        "    all_bytes = [ binary_data[i: i+8] for i in range(0, len(binary_data), 8) ]\n",
        "    # convert from bits to characters\n",
        "    decoded_data = \"\"\n",
        "    for byte in all_bytes:\n",
        "        decoded_data += chr(int(byte, 2))\n",
        "        if decoded_data[-5:] == \"=====\":\n",
        "            break\n",
        "    return decoded_data[:-5]\n",
        "\n",
        "\n",
        "if __name__ == \"__main__\":\n",
        "    input_image = \"image.PNG\"\n",
        "    output_image = \"encoded_image.PNG\"\n",
        "    secret_data = \"This is a top secret message of learn n share.\"\n",
        "    # encode the data into the image\n",
        "    encoded_image = encode(image_name=input_image, secret_data=secret_data)\n",
        "    # save the output image (encoded image)\n",
        "    cv2.imwrite(output_image, encoded_image)\n",
        "    # decode the secret data from the image\n",
        "    decoded_data = decode(output_image)\n",
        "    print(\"[+] Decoded data:\", decoded_data)\n",
        "\n",
        "    \n",
        "                   "
      ],
      "execution_count": 4,
      "outputs": [
        {
          "output_type": "stream",
          "text": [
            "[*] Maximum bytes to encode: 534379\n",
            "[*] Encoding data...\n",
            "[+] Decoding...\n",
            "[+] Decoded data: This is a top secret message of learn n share.\n"
          ],
          "name": "stdout"
        }
      ]
    }
  ]
}